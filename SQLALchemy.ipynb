{
  "nbformat": 4,
  "nbformat_minor": 0,
  "metadata": {
    "colab": {
      "name": "SQLALchemy.ipynb",
      "provenance": [],
      "authorship_tag": "ABX9TyPeIuRlJ99ZPZEbLN9yyuFN",
      "include_colab_link": true
    },
    "kernelspec": {
      "name": "python3",
      "display_name": "Python 3"
    },
    "language_info": {
      "name": "python"
    }
  },
  "cells": [
    {
      "cell_type": "markdown",
      "metadata": {
        "id": "view-in-github",
        "colab_type": "text"
      },
      "source": [
        "<a href=\"https://colab.research.google.com/github/MauGayosso/google-colab-demo/blob/main/SQLALchemy.ipynb\" target=\"_parent\"><img src=\"https://colab.research.google.com/assets/colab-badge.svg\" alt=\"Open In Colab\"/></a>"
      ]
    },
    {
      "cell_type": "markdown",
      "source": [
        "IMPORTS"
      ],
      "metadata": {
        "id": "EfL6YGZShbHq"
      }
    },
    {
      "cell_type": "code",
      "execution_count": 1,
      "metadata": {
        "id": "A-t77qhhpaQH"
      },
      "outputs": [],
      "source": [
        "from sqlalchemy import create_engine # Permite crear la base de datos\n",
        "from sqlalchemy import MetaData\n",
        "from sqlalchemy import Table, Column, Integer, String # Importar Objetos (Tablas, Columnas) y tipo de datos\n",
        "from sqlalchemy import insert, select, update, delete # Importar metodos para CRUD"
      ]
    },
    {
      "cell_type": "markdown",
      "source": [
        "ENGINE CONECTION"
      ],
      "metadata": {
        "id": "Y_SxyGNfhpmq"
      }
    },
    {
      "cell_type": "code",
      "source": [
        "engine = create_engine('sqlite:///prueba.db') #Iniciar conexion, se puede modificar dependiendo el gesto de base de datos\n"
      ],
      "metadata": {
        "id": "hidM_DnDp0MT"
      },
      "execution_count": 2,
      "outputs": []
    },
    {
      "cell_type": "code",
      "source": [
        "metadata = MetaData(engine) # Permite acceder a los objetos de una tabla"
      ],
      "metadata": {
        "id": "LHvR_QYSp76P"
      },
      "execution_count": 3,
      "outputs": []
    },
    {
      "cell_type": "markdown",
      "source": [
        "CREAR LA BASE DE DATOS, INICIAR LA ESTRUCTURA DE LA(S) TABLAS A UTILIZAR"
      ],
      "metadata": {
        "id": "vXFj8UFIhwPY"
      }
    },
    {
      "cell_type": "code",
      "source": [
        "clientes = Table(\n",
        "    'clientes',metadata,\n",
        "    Column('id_cliente', Integer, primary_key = True),\n",
        "    Column('nombre', String, nullable = False),\n",
        "    Column('email', String, nullable = False)\n",
        ")"
      ],
      "metadata": {
        "id": "i4G6wXXep_Dj"
      },
      "execution_count": 4,
      "outputs": []
    },
    {
      "cell_type": "markdown",
      "source": [
        ""
      ],
      "metadata": {
        "id": "Xt5u-23qh898"
      }
    },
    {
      "cell_type": "code",
      "source": [
        "metadata.create_all(engine) # Permite crear las tablas para el gestor seleccionado"
      ],
      "metadata": {
        "id": "mlGp3bxZqVe-"
      },
      "execution_count": 5,
      "outputs": []
    },
    {
      "cell_type": "markdown",
      "source": [
        "INSERT"
      ],
      "metadata": {
        "id": "2vcdPmxziaEm"
      }
    },
    {
      "cell_type": "code",
      "source": [
        "data = [ # Diccionario para insertar multiples valores\n",
        "    {\"nombre\": \"Cliente 1\", \"email\": \"cliente1@mail.com\"},\n",
        "    {\"nombre\": \"Cliente 2\", \"email\": \"cliente2@mail.com\"},\n",
        "    {\"nombre\": \"Cliente 3\", \"email\": \"cliente3@mail.com\"},\n",
        "    {\"nombre\": \"Cliente 4\", \"email\": \"cliente4@mail.com\"}\n",
        "]"
      ],
      "metadata": {
        "id": "KlIoXwJ1rvN_"
      },
      "execution_count": 6,
      "outputs": []
    },
    {
      "cell_type": "code",
      "source": [
        "stmt = insert(clientes).values(data) # Statement para usar la funcion insertar dando nombre de la base de datos y que valores insertar\n",
        "print(type(stmt)) # Permite visualizar caracteristicas de la variable stmt\n",
        "print(stmt)"
      ],
      "metadata": {
        "id": "yN5gap8oiZcp",
        "colab": {
          "base_uri": "https://localhost:8080/"
        },
        "outputId": "f79bee63-880a-47be-cd8a-ae6c3c2e4f6d"
      },
      "execution_count": 7,
      "outputs": [
        {
          "output_type": "stream",
          "name": "stdout",
          "text": [
            "<class 'sqlalchemy.sql.dml.Insert'>\n",
            "INSERT INTO clientes (nombre, email) VALUES (?, ?), (?, ?), (?, ?), (?, ?)\n"
          ]
        }
      ]
    },
    {
      "cell_type": "code",
      "source": [
        "with engine.connect() as conn: # Iniciar la conexion, ejectuta y cierra conexion automaticamente\n",
        "  result = conn.execute(stmt) # Damos la instruccion a ejecutar con execute y la query"
      ],
      "metadata": {
        "id": "pNUk6-RXsYun"
      },
      "execution_count": 8,
      "outputs": []
    },
    {
      "cell_type": "markdown",
      "source": [
        "SELECT"
      ],
      "metadata": {
        "id": "vOTYycjViISg"
      }
    },
    {
      "cell_type": "code",
      "source": [
        "stmt = select(clientes) # Permite hacer uso de la funcion select y como parametro el nombre de la base de datos\n",
        "print(type(stmt)) # Permite visualizar caracteristicas de la variable stmt\n",
        "print(stmt)"
      ],
      "metadata": {
        "id": "KTeGdO5bslHs",
        "colab": {
          "base_uri": "https://localhost:8080/"
        },
        "outputId": "028cea52-09b0-4427-b94e-81954faa6132"
      },
      "execution_count": 9,
      "outputs": [
        {
          "output_type": "stream",
          "name": "stdout",
          "text": [
            "<class 'sqlalchemy.sql.selectable.Select'>\n",
            "SELECT clientes.id_cliente, clientes.nombre, clientes.email \n",
            "FROM clientes\n"
          ]
        }
      ]
    },
    {
      "cell_type": "code",
      "source": [
        "stmt = select(clientes).where(clientes.c.id_cliente != 1) # Select con filtros podemos usar | == | < | > | != | \n",
        "print(type(stmt))\n",
        "print(stmt)"
      ],
      "metadata": {
        "colab": {
          "base_uri": "https://localhost:8080/"
        },
        "id": "BS60pbYpomCr",
        "outputId": "13b480d7-7b2e-447a-9194-626a24e73158"
      },
      "execution_count": null,
      "outputs": [
        {
          "output_type": "stream",
          "name": "stdout",
          "text": [
            "<class 'sqlalchemy.sql.selectable.Select'>\n",
            "SELECT clientes.id_cliente, clientes.nombre, clientes.email \n",
            "FROM clientes \n",
            "WHERE clientes.id_cliente != ?\n"
          ]
        }
      ]
    },
    {
      "cell_type": "code",
      "source": [
        "stmt = select(clientes).where(clientes.c.nombre.like('%2')) # Select con LIKE\n",
        "print(type(stmt))\n",
        "print(stmt)"
      ],
      "metadata": {
        "colab": {
          "base_uri": "https://localhost:8080/"
        },
        "id": "ZhU2Ptlvqh3X",
        "outputId": "9cf5cc55-302a-4fe3-d8f1-6b54d5951148"
      },
      "execution_count": null,
      "outputs": [
        {
          "output_type": "stream",
          "name": "stdout",
          "text": [
            "<class 'sqlalchemy.sql.selectable.Select'>\n",
            "SELECT clientes.id_cliente, clientes.nombre, clientes.email \n",
            "FROM clientes \n",
            "WHERE clientes.nombre LIKE ?\n"
          ]
        }
      ]
    },
    {
      "cell_type": "code",
      "source": [
        "stmt = select(clientes).where(clientes.c.nombre.in_(['Cliente 1','Cliente 3']))\n",
        "print(type(stmt))\n",
        "print(stmt)"
      ],
      "metadata": {
        "colab": {
          "base_uri": "https://localhost:8080/"
        },
        "id": "khh_NAeOvfOK",
        "outputId": "b9b0bc45-e369-4e5e-c6e4-9f79799a2455"
      },
      "execution_count": 11,
      "outputs": [
        {
          "output_type": "stream",
          "name": "stdout",
          "text": [
            "<class 'sqlalchemy.sql.selectable.Select'>\n",
            "SELECT clientes.id_cliente, clientes.nombre, clientes.email \n",
            "FROM clientes \n",
            "WHERE clientes.nombre IN (__[POSTCOMPILE_nombre_1])\n"
          ]
        }
      ]
    },
    {
      "cell_type": "code",
      "source": [
        "stmt = select(clientes).where(clientes.c.nombre.not_in(['Cliente 1','Cliente 3']))\n",
        "print(type(stmt))\n",
        "print(stmt)"
      ],
      "metadata": {
        "colab": {
          "base_uri": "https://localhost:8080/"
        },
        "id": "AcfsuzYswJLI",
        "outputId": "1583c379-c3de-467e-eb13-fbad48bd9acb"
      },
      "execution_count": 14,
      "outputs": [
        {
          "output_type": "stream",
          "name": "stdout",
          "text": [
            "<class 'sqlalchemy.sql.selectable.Select'>\n",
            "SELECT clientes.id_cliente, clientes.nombre, clientes.email \n",
            "FROM clientes \n",
            "WHERE (clientes.nombre NOT IN (__[POSTCOMPILE_nombre_1]))\n"
          ]
        }
      ]
    },
    {
      "cell_type": "code",
      "source": [
        "with engine.connect() as conn: # Iniciar la conexion, ejectuta y cierra conexion automaticamente\n",
        "  result = conn.execute(stmt) # Damos la instruccion a ejecutar con execute y la query\n",
        "  for row in result.fetchall(): # Ciclo para imprimir todos los datos almacenados en el query\n",
        "    print(row) # Imprime los datos. usando row.nombre_del_campo para mostrar solamente los datos de una columna"
      ],
      "metadata": {
        "id": "jU_1HBZYslC1",
        "colab": {
          "base_uri": "https://localhost:8080/"
        },
        "outputId": "9f033acc-9638-4360-d516-cc65ed5169dd"
      },
      "execution_count": 15,
      "outputs": [
        {
          "output_type": "stream",
          "name": "stdout",
          "text": [
            "(2, 'Cliente 2', 'cliente2@mail.com')\n",
            "(4, 'Cliente 4', 'cliente4@mail.com')\n"
          ]
        }
      ]
    },
    {
      "cell_type": "markdown",
      "source": [
        "DELETE"
      ],
      "metadata": {
        "id": "lGTTOTG4iOdt"
      }
    },
    {
      "cell_type": "code",
      "source": [
        "stmt = delete(clientes).where(clientes.c.id_cliente == 2) # Permite hacer uso de la funcion delete indicando con un where y como atributos indicar nombre_db.c.campo para relacionar\n",
        "print(type(stmt)) # .c indica que es columna\n",
        "print(stmt)"
      ],
      "metadata": {
        "id": "HzIYALfptjVA",
        "colab": {
          "base_uri": "https://localhost:8080/"
        },
        "outputId": "c44d100b-caf7-4eb6-bd45-5cf35b629361"
      },
      "execution_count": null,
      "outputs": [
        {
          "output_type": "stream",
          "name": "stdout",
          "text": [
            "<class 'sqlalchemy.sql.dml.Delete'>\n",
            "DELETE FROM clientes WHERE clientes.id_cliente = ?\n"
          ]
        }
      ]
    },
    {
      "cell_type": "code",
      "source": [
        "with engine.connect() as conn: # Inicia conexion\n",
        "  result = conn.execute(stmt) # Realizar la instruccion "
      ],
      "metadata": {
        "id": "3elHomQevuXT"
      },
      "execution_count": null,
      "outputs": []
    },
    {
      "cell_type": "markdown",
      "source": [
        "UPDATE"
      ],
      "metadata": {
        "id": "CcX5LfS1iSS6"
      }
    },
    {
      "cell_type": "code",
      "source": [
        "dataUpdate = { # Lista con los datos que se van a actualizar\n",
        "    \"nombre\" : \"Cliente 2\",\n",
        "    \"email\" : \"clienteupdate@mail.com\"\n",
        "}"
      ],
      "metadata": {
        "id": "t854Es98wP7l"
      },
      "execution_count": null,
      "outputs": []
    },
    {
      "cell_type": "code",
      "source": [
        "stmt = update(clientes).where(clientes.c.id_cliente == 2).values(dataUpdate) # Statement para hacer la actualizacion de un campo en base a su ID\n",
        "print(type(stmt))\n",
        "print(stmt)"
      ],
      "metadata": {
        "id": "46k5-1ppwuyj",
        "colab": {
          "base_uri": "https://localhost:8080/"
        },
        "outputId": "445e90fa-6c50-448e-ea57-5d226b7855bb"
      },
      "execution_count": null,
      "outputs": [
        {
          "output_type": "stream",
          "name": "stdout",
          "text": [
            "<class 'sqlalchemy.sql.dml.Update'>\n",
            "UPDATE clientes SET nombre=?, email=? WHERE clientes.id_cliente = ?\n"
          ]
        }
      ]
    },
    {
      "cell_type": "code",
      "source": [
        "with engine.connect() as conn: # Inicia la conexion\n",
        "  result = conn.execute(stmt) # Ejecuta la instruccion"
      ],
      "metadata": {
        "id": "en2KsEuQxACQ"
      },
      "execution_count": null,
      "outputs": []
    }
  ]
}