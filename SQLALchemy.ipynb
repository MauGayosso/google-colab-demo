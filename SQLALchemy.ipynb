{
  "nbformat": 4,
  "nbformat_minor": 0,
  "metadata": {
    "colab": {
      "name": "SQLALchemy.ipynb",
      "provenance": [],
      "authorship_tag": "ABX9TyOWTRGEkkfPBt3OeAWWvbQi",
      "include_colab_link": true
    },
    "kernelspec": {
      "name": "python3",
      "display_name": "Python 3"
    },
    "language_info": {
      "name": "python"
    }
  },
  "cells": [
    {
      "cell_type": "markdown",
      "metadata": {
        "id": "view-in-github",
        "colab_type": "text"
      },
      "source": [
        "<a href=\"https://colab.research.google.com/github/MauGayosso/google-colab-demo/blob/main/SQLALchemy.ipynb\" target=\"_parent\"><img src=\"https://colab.research.google.com/assets/colab-badge.svg\" alt=\"Open In Colab\"/></a>"
      ]
    },
    {
      "cell_type": "markdown",
      "source": [
        "IMPORTS"
      ],
      "metadata": {
        "id": "EfL6YGZShbHq"
      }
    },
    {
      "cell_type": "code",
      "execution_count": null,
      "metadata": {
        "id": "A-t77qhhpaQH"
      },
      "outputs": [],
      "source": [
        "from sqlalchemy import create_engine # Permite crear la base de datos\n",
        "from sqlalchemy import MetaData\n",
        "from sqlalchemy import Table, Column, Integer, String # Importar Objetos (Tablas, Columnas) y tipo de datos\n",
        "from sqlalchemy import insert, select, update, delete # Importar metodos para CRUD"
      ]
    },
    {
      "cell_type": "markdown",
      "source": [
        "ENGINE CONECTION"
      ],
      "metadata": {
        "id": "Y_SxyGNfhpmq"
      }
    },
    {
      "cell_type": "code",
      "source": [
        "engine = create_engine('sqlite:///prueba.db') #Iniciar conexion, se puede modificar dependiendo el gesto de base de datos\n"
      ],
      "metadata": {
        "id": "hidM_DnDp0MT"
      },
      "execution_count": null,
      "outputs": []
    },
    {
      "cell_type": "code",
      "source": [
        "metadata = MetaData(engine) # Permite acceder a los objetos de una tabla"
      ],
      "metadata": {
        "id": "LHvR_QYSp76P"
      },
      "execution_count": null,
      "outputs": []
    },
    {
      "cell_type": "markdown",
      "source": [
        "CREAR LA BASE DE DATOS, INICIAR LA ESTRUCTURA DE LA(S) TABLAS A UTILIZAR"
      ],
      "metadata": {
        "id": "vXFj8UFIhwPY"
      }
    },
    {
      "cell_type": "code",
      "source": [
        "clientes = Table(\n",
        "    'clientes',metadata,\n",
        "    Column('id_cliente', Integer, primary_key = True),\n",
        "    Column('nombre', String, nullable = False),\n",
        "    Column('email', String, nullable = False)\n",
        ")"
      ],
      "metadata": {
        "id": "i4G6wXXep_Dj"
      },
      "execution_count": null,
      "outputs": []
    },
    {
      "cell_type": "markdown",
      "source": [
        ""
      ],
      "metadata": {
        "id": "Xt5u-23qh898"
      }
    },
    {
      "cell_type": "code",
      "source": [
        "metadata.create_all(engine) # Permite crear las tablas para el gestor seleccionado"
      ],
      "metadata": {
        "id": "mlGp3bxZqVe-"
      },
      "execution_count": null,
      "outputs": []
    },
    {
      "cell_type": "code",
      "source": [
        "data = [ # Diccionario para insertar multiples valores\n",
        "    {\"nombre\": \"Cliente 1 \", \"email\": \"cliente1@mail.com\"},\n",
        "    {\"nombre\": \"Cliente 2 \", \"email\": \"cliente2@mail.com\"},\n",
        "    {\"nombre\": \"Cliente 3 \", \"email\": \"cliente3@mail.com\"},\n",
        "    {\"nombre\": \"Cliente 4 \", \"email\": \"cliente4@mail.com\"}\n",
        "]"
      ],
      "metadata": {
        "id": "KlIoXwJ1rvN_"
      },
      "execution_count": null,
      "outputs": []
    },
    {
      "cell_type": "markdown",
      "source": [
        "INSERT"
      ],
      "metadata": {
        "id": "2vcdPmxziaEm"
      }
    },
    {
      "cell_type": "code",
      "source": [
        "stmt = insert(clientes).values(data) # Statement para usar la funcion insertar dando nombre de la base de datos y que valores insertar\n",
        "print(type(stmt)) # Permite visualizar caracteristicas de la variable stmt\n",
        "print(stmt)"
      ],
      "metadata": {
        "id": "yN5gap8oiZcp"
      },
      "execution_count": null,
      "outputs": []
    },
    {
      "cell_type": "markdown",
      "source": [
        "EJECUTAR INSTRUCCION"
      ],
      "metadata": {
        "id": "XzejoL7-iGfe"
      }
    },
    {
      "cell_type": "code",
      "source": [
        "with engine.connect() as conn: # Iniciar la conexion, ejectuta y cierra conexion automaticamente\n",
        "  result = conn.execute(stmt) # Damos la instruccion a ejecutar con execute y la query"
      ],
      "metadata": {
        "id": "pNUk6-RXsYun"
      },
      "execution_count": null,
      "outputs": []
    },
    {
      "cell_type": "markdown",
      "source": [
        "SELECT"
      ],
      "metadata": {
        "id": "vOTYycjViISg"
      }
    },
    {
      "cell_type": "code",
      "source": [
        "stmt = select(clientes) # Permite hacer uso de la funcion select y como parametro el nombre de la base de datos\n",
        "print(type(stmt)) # Permite visualizar caracteristicas de la variable stmt\n",
        "print(stmt)"
      ],
      "metadata": {
        "id": "KTeGdO5bslHs"
      },
      "execution_count": null,
      "outputs": []
    },
    {
      "cell_type": "code",
      "source": [
        "with engine.connect() as conn: # Iniciar la conexion, ejectuta y cierra conexion automaticamente\n",
        "  result = conn.execute(stmt) # Damos la instruccion a ejecutar con execute y la query\n",
        "  for row in result.fetchall(): # Ciclo para imprimir todos los datos almacenados en el query\n",
        "    print(row) # Imprime los datos "
      ],
      "metadata": {
        "id": "jU_1HBZYslC1"
      },
      "execution_count": null,
      "outputs": []
    },
    {
      "cell_type": "markdown",
      "source": [
        "DELETE"
      ],
      "metadata": {
        "id": "lGTTOTG4iOdt"
      }
    },
    {
      "cell_type": "code",
      "source": [
        "stmt = delete(clientes).where(clientes.c.id_cliente == 4) # Permite hacer uso de la funcion delete indicando con un where y como atributos indicar nombre_db.c.campo para relacionar\n",
        "print(type(stmt)) # .c indica que es columna\n",
        "print(stmt)"
      ],
      "metadata": {
        "id": "HzIYALfptjVA"
      },
      "execution_count": null,
      "outputs": []
    },
    {
      "cell_type": "code",
      "source": [
        "with engine.connect() as conn: # Inicia conexion\n",
        "  result = conn.execute(stmt) # Realizar la instruccion "
      ],
      "metadata": {
        "id": "3elHomQevuXT"
      },
      "execution_count": null,
      "outputs": []
    },
    {
      "cell_type": "code",
      "source": [
        "dataUpdate = { # Lista con los datos que se van a actualizar\n",
        "    \"nombre\" : \"Cliente Actualizado\",\n",
        "    \"email\" : \"clienteupdate@mail.com\"\n",
        "}"
      ],
      "metadata": {
        "id": "t854Es98wP7l"
      },
      "execution_count": null,
      "outputs": []
    },
    {
      "cell_type": "markdown",
      "source": [
        "UPDATE"
      ],
      "metadata": {
        "id": "CcX5LfS1iSS6"
      }
    },
    {
      "cell_type": "code",
      "source": [
        "stmt = update(clientes).where(clientes.c.id_cliente == 3).values(dataUpdate) # Statement para hacer la actualizacion de un campo en base a su ID\n",
        "print(type(stmt))\n",
        "print(stmt)"
      ],
      "metadata": {
        "id": "46k5-1ppwuyj"
      },
      "execution_count": null,
      "outputs": []
    },
    {
      "cell_type": "code",
      "source": [
        "with engine.connect() as conn: # Inicia la conexion\n",
        "  result = conn.execute(stmt) # Ejecuta la instruccion"
      ],
      "metadata": {
        "id": "en2KsEuQxACQ"
      },
      "execution_count": null,
      "outputs": []
    }
  ]
}